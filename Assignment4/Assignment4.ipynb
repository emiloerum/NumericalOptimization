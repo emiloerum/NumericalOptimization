{
 "cells": [
  {
   "cell_type": "markdown",
   "metadata": {},
   "source": [
    "### Imports"
   ]
  },
  {
   "cell_type": "code",
   "execution_count": null,
   "metadata": {},
   "outputs": [],
   "source": [
    "import numpy as np\n",
    "import pandas as pd\n",
    "import ace_tools_open as tools\n",
    "from case_studies import *\n",
    "import time\n",
    "import matplotlib.pyplot as plt\n",
    "from scipy.optimize import minimize"
   ]
  },
  {
   "cell_type": "code",
   "execution_count": 3,
   "metadata": {},
   "outputs": [],
   "source": [
    "#Save case study functions, their derivatives and hessians in lists\n",
    "fs = [f1, f4]\n",
    "dfs = [df1, df4]\n",
    "Hfs = [Hf1, Hf4]\n",
    "fnames = [\"f1\", \"f4\"]"
   ]
  },
  {
   "cell_type": "markdown",
   "metadata": {},
   "source": [
    "### scipy BFGS"
   ]
  },
  {
   "cell_type": "code",
   "execution_count": null,
   "metadata": {},
   "outputs": [],
   "source": [
    "def scipy_bfgs(f,df,x0,max_iterations,epsilon):\n",
    "    xs=[]\n",
    "    grad_norms=[]\n",
    "    def logging_f(x):\n",
    "        xs.append(x)\n",
    "        grad_norms.append(np.maximum(np.linalg.norm(df(x)),10**(-5)*epsilon))\n",
    "        return f(x)\n",
    "    minimize(logging_f, x0, method=\"BFGS\", jac=df, tol=epsilon,options={'maxiter':max_iterations, 'gtol':epsilon})\n",
    "    return np.array(xs), np.array(grad_norms)"
   ]
  },
  {
   "cell_type": "markdown",
   "metadata": {},
   "source": [
    "### Strict Wolfe condition Linesearch"
   ]
  },
  {
   "cell_type": "code",
   "execution_count": 1,
   "metadata": {},
   "outputs": [],
   "source": [
    "def wolfe_search(f, df, x, p, c1, c2, alpha_init):\n",
    "    def gf(alpha):\n",
    "        return f(x + np.dot(alpha, p))\n",
    "    def gdf(alpha):\n",
    "        return df(x + np.dot(alpha, p))\n",
    "    l = 0\n",
    "    u = alpha_init\n",
    "    while True:\n",
    "        if gf(u) > gf(0) + c1 * u * gdf(0) or gf(u) > gf(l):\n",
    "            break\n",
    "        if abs(gdf(u)) < c2 * abs(gdf(0)):\n",
    "            alpha_star = u\n",
    "            return alpha_star\n",
    "        if gdf(u) > 0:\n",
    "            break\n",
    "        else:\n",
    "            u = u * 2\n",
    "    while True:\n",
    "        a = (l + u) / 2\n",
    "        if gf(a) > gf(0) + c1 * a * gdf(0) or gf(a) > gf(l):\n",
    "            u = a\n",
    "        else:\n",
    "            if abs(gdf(a)) < c2 * abs(gdf(0)):\n",
    "                alpha_star = a\n",
    "                return alpha_star\n",
    "            if gdf(a) < 0:\n",
    "                l = a\n",
    "            else:\n",
    "                u = a"
   ]
  },
  {
   "cell_type": "markdown",
   "metadata": {},
   "source": [
    "### BFGS"
   ]
  },
  {
   "cell_type": "code",
   "execution_count": null,
   "metadata": {},
   "outputs": [],
   "source": [
    "def bfgs(x, f, df, c1, c2, max_iter):\n",
    "    # eye tager dimension\n",
    "    H = np.eye(20)\n",
    "    for i in range(max_iter):\n",
    "        p = -np.dot(H, df(x))\n",
    "        alpha = wolfe_search(f, df, x, p, 1.0, c1, c2)\n",
    "        ap = np.dot(alpha, p)\n",
    "        x_new = x + ap\n",
    "        y = df(x_new) - df(x)\n",
    "        s = ap\n",
    "        H = H + \n",
    "\n",
    "        x = x_new"
   ]
  }
 ],
 "metadata": {
  "kernelspec": {
   "display_name": "Python 3",
   "language": "python",
   "name": "python3"
  },
  "language_info": {
   "codemirror_mode": {
    "name": "ipython",
    "version": 3
   },
   "file_extension": ".py",
   "mimetype": "text/x-python",
   "name": "python",
   "nbconvert_exporter": "python",
   "pygments_lexer": "ipython3",
   "version": "3.10.11"
  }
 },
 "nbformat": 4,
 "nbformat_minor": 2
}
