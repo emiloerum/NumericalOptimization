{
 "cells": [
  {
   "cell_type": "markdown",
   "metadata": {},
   "source": [
    "### Imports"
   ]
  },
  {
   "cell_type": "code",
   "execution_count": 33,
   "metadata": {},
   "outputs": [],
   "source": [
    "import numpy as np\n",
    "import pandas as pd\n",
    "import ace_tools_open as tools\n",
    "from case_studies import *\n",
    "import time\n",
    "import matplotlib.pyplot as plt"
   ]
  },
  {
   "cell_type": "code",
   "execution_count": 34,
   "metadata": {},
   "outputs": [],
   "source": [
    "#Save case study functions, their derivatives and hessians in lists\n",
    "fs = [f1, f3, f4, f5]\n",
    "dfs = [df1, df3, df4, df5]\n",
    "Hfs = [Hf1, Hf3, Hf4, Hf5]\n",
    "fnames = [\"f1\", \"f3\", \"f4\", \"f5\"]"
   ]
  },
  {
   "cell_type": "code",
   "execution_count": null,
   "metadata": {},
   "outputs": [],
   "source": [
    "\n",
    "def alg12(Q, b, delta, epsilon):\n",
    "    def p(lambd):\n",
    "        return -np.linalg.inv(Q + lambd * np.identity(Q.shape[0])).dot(b)\n",
    "    \n",
    "    lambda1 = np.linalg.eigvalsh(Q)[0]\n",
    "    \n",
    "\n",
    "    if lambda1 > 0 and np.linalg.norm(p(0)) <= delta:\n",
    "        return p(0)\n",
    "    \n",
    "    l = max(0, -lambda1)\n",
    "    u = max(0, -lambda1) + 1\n",
    "    \n",
    "    while np.linalg.norm(p(u)) > delta:\n",
    "        l = u\n",
    "        u = 2 * u\n",
    "    \n",
    "    while True:\n",
    "        lambdaMark = 0.5 * (l + u)\n",
    "        pMark = p(lambdaMark)\n",
    "        \n",
    "        if np.linalg.norm(pMark) <= delta and abs(np.linalg.norm(pMark) - delta) < epsilon:\n",
    "            return pMark\n",
    "        \n",
    "        if np.linalg.norm(pMark) > delta:\n",
    "            l = lambdaMark\n",
    "        else:\n",
    "            u = lambdaMark\n",
    "\n",
    "\n"
   ]
  }
 ],
 "metadata": {
  "kernelspec": {
   "display_name": "NumOps",
   "language": "python",
   "name": "python3"
  },
  "language_info": {
   "codemirror_mode": {
    "name": "ipython",
    "version": 3
   },
   "file_extension": ".py",
   "mimetype": "text/x-python",
   "name": "python",
   "nbconvert_exporter": "python",
   "pygments_lexer": "ipython3",
   "version": "3.12.9"
  }
 },
 "nbformat": 4,
 "nbformat_minor": 2
}
